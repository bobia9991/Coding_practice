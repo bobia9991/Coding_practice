import os
import pandas as pd
from plotnine import * # visualize
import plotnine as p9
import numpy as np
import seaborn as sns
import matplotlib.pyplot as plt
from IPython.display import display